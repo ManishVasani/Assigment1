{
 "cells": [
  {
   "cell_type": "code",
   "execution_count": 1,
   "id": "4fc7909f",
   "metadata": {},
   "outputs": [],
   "source": [
    "import pandas as pd\n",
    "import numpy as np\n",
    "import matplotlib.pyplot as plt"
   ]
  },
  {
   "cell_type": "code",
   "execution_count": 3,
   "id": "5ad07438",
   "metadata": {},
   "outputs": [],
   "source": [
    "ratings_cols = ['user_id', 'movie_id', 'ratings', 'timestamp']"
   ]
  },
  {
   "cell_type": "code",
   "execution_count": 4,
   "id": "5d6f5f51",
   "metadata": {},
   "outputs": [],
   "source": [
    "df_ratings = pd.read_csv('ml-100K/u.data', sep='\\t', names=ratings_cols)"
   ]
  },
  {
   "cell_type": "code",
   "execution_count": 5,
   "id": "8e2d4b00",
   "metadata": {},
   "outputs": [],
   "source": [
    "# To read the u.item file as a DataFrame called df_movies:\n",
    "\n",
    "movies_cols = ['movie_id', 'title', 'release_date', 'video_release_date', 'imdb_url']\n",
    "df_movies = pd.read_csv('ml-100k/u.item', sep='|', encoding='latin-1', usecols=range(5),\n",
    "names=movies_cols)"
   ]
  },
  {
   "cell_type": "code",
   "execution_count": 6,
   "id": "3821f1ea",
   "metadata": {},
   "outputs": [],
   "source": [
    "##To read the u.user file as a DataFrame called users_df\n",
    "user_columns = ['user_id', 'age', 'gender', 'occupation', 'zip_code']\n",
    "df_users = pd.read_csv('ml-100k/u.user', sep='|', names=user_columns)"
   ]
  },
  {
   "cell_type": "code",
   "execution_count": 7,
   "id": "ff7cc91a",
   "metadata": {},
   "outputs": [
    {
     "name": "stdout",
     "output_type": "stream",
     "text": [
      "<class 'pandas.core.frame.DataFrame'>\n",
      "RangeIndex: 1682 entries, 0 to 1681\n",
      "Data columns (total 5 columns):\n",
      " #   Column              Non-Null Count  Dtype  \n",
      "---  ------              --------------  -----  \n",
      " 0   movie_id            1682 non-null   int64  \n",
      " 1   title               1682 non-null   object \n",
      " 2   release_date        1681 non-null   object \n",
      " 3   video_release_date  0 non-null      float64\n",
      " 4   imdb_url            1679 non-null   object \n",
      "dtypes: float64(1), int64(1), object(3)\n",
      "memory usage: 65.8+ KB\n"
     ]
    },
    {
     "data": {
      "text/html": [
       "<div>\n",
       "<style scoped>\n",
       "    .dataframe tbody tr th:only-of-type {\n",
       "        vertical-align: middle;\n",
       "    }\n",
       "\n",
       "    .dataframe tbody tr th {\n",
       "        vertical-align: top;\n",
       "    }\n",
       "\n",
       "    .dataframe thead th {\n",
       "        text-align: right;\n",
       "    }\n",
       "</style>\n",
       "<table border=\"1\" class=\"dataframe\">\n",
       "  <thead>\n",
       "    <tr style=\"text-align: right;\">\n",
       "      <th></th>\n",
       "      <th>movie_id</th>\n",
       "      <th>video_release_date</th>\n",
       "    </tr>\n",
       "  </thead>\n",
       "  <tbody>\n",
       "    <tr>\n",
       "      <th>count</th>\n",
       "      <td>1682.000000</td>\n",
       "      <td>0.0</td>\n",
       "    </tr>\n",
       "    <tr>\n",
       "      <th>mean</th>\n",
       "      <td>841.500000</td>\n",
       "      <td>NaN</td>\n",
       "    </tr>\n",
       "    <tr>\n",
       "      <th>std</th>\n",
       "      <td>485.695893</td>\n",
       "      <td>NaN</td>\n",
       "    </tr>\n",
       "    <tr>\n",
       "      <th>min</th>\n",
       "      <td>1.000000</td>\n",
       "      <td>NaN</td>\n",
       "    </tr>\n",
       "    <tr>\n",
       "      <th>25%</th>\n",
       "      <td>421.250000</td>\n",
       "      <td>NaN</td>\n",
       "    </tr>\n",
       "    <tr>\n",
       "      <th>50%</th>\n",
       "      <td>841.500000</td>\n",
       "      <td>NaN</td>\n",
       "    </tr>\n",
       "    <tr>\n",
       "      <th>75%</th>\n",
       "      <td>1261.750000</td>\n",
       "      <td>NaN</td>\n",
       "    </tr>\n",
       "    <tr>\n",
       "      <th>max</th>\n",
       "      <td>1682.000000</td>\n",
       "      <td>NaN</td>\n",
       "    </tr>\n",
       "  </tbody>\n",
       "</table>\n",
       "</div>"
      ],
      "text/plain": [
       "          movie_id  video_release_date\n",
       "count  1682.000000                 0.0\n",
       "mean    841.500000                 NaN\n",
       "std     485.695893                 NaN\n",
       "min       1.000000                 NaN\n",
       "25%     421.250000                 NaN\n",
       "50%     841.500000                 NaN\n",
       "75%    1261.750000                 NaN\n",
       "max    1682.000000                 NaN"
      ]
     },
     "execution_count": 7,
     "metadata": {},
     "output_type": "execute_result"
    }
   ],
   "source": [
    "# to see the contains of df_movies \n",
    "\n",
    "df_movies.info()\n",
    "df_movies.describe()"
   ]
  },
  {
   "cell_type": "code",
   "execution_count": 8,
   "id": "86cd2786",
   "metadata": {},
   "outputs": [
    {
     "name": "stdout",
     "output_type": "stream",
     "text": [
      "<class 'pandas.core.frame.DataFrame'>\n",
      "RangeIndex: 943 entries, 0 to 942\n",
      "Data columns (total 5 columns):\n",
      " #   Column      Non-Null Count  Dtype \n",
      "---  ------      --------------  ----- \n",
      " 0   user_id     943 non-null    int64 \n",
      " 1   age         943 non-null    int64 \n",
      " 2   gender      943 non-null    object\n",
      " 3   occupation  943 non-null    object\n",
      " 4   zip_code    943 non-null    object\n",
      "dtypes: int64(2), object(3)\n",
      "memory usage: 37.0+ KB\n"
     ]
    },
    {
     "data": {
      "text/html": [
       "<div>\n",
       "<style scoped>\n",
       "    .dataframe tbody tr th:only-of-type {\n",
       "        vertical-align: middle;\n",
       "    }\n",
       "\n",
       "    .dataframe tbody tr th {\n",
       "        vertical-align: top;\n",
       "    }\n",
       "\n",
       "    .dataframe thead th {\n",
       "        text-align: right;\n",
       "    }\n",
       "</style>\n",
       "<table border=\"1\" class=\"dataframe\">\n",
       "  <thead>\n",
       "    <tr style=\"text-align: right;\">\n",
       "      <th></th>\n",
       "      <th>user_id</th>\n",
       "      <th>age</th>\n",
       "    </tr>\n",
       "  </thead>\n",
       "  <tbody>\n",
       "    <tr>\n",
       "      <th>count</th>\n",
       "      <td>943.000000</td>\n",
       "      <td>943.000000</td>\n",
       "    </tr>\n",
       "    <tr>\n",
       "      <th>mean</th>\n",
       "      <td>472.000000</td>\n",
       "      <td>34.051962</td>\n",
       "    </tr>\n",
       "    <tr>\n",
       "      <th>std</th>\n",
       "      <td>272.364951</td>\n",
       "      <td>12.192740</td>\n",
       "    </tr>\n",
       "    <tr>\n",
       "      <th>min</th>\n",
       "      <td>1.000000</td>\n",
       "      <td>7.000000</td>\n",
       "    </tr>\n",
       "    <tr>\n",
       "      <th>25%</th>\n",
       "      <td>236.500000</td>\n",
       "      <td>25.000000</td>\n",
       "    </tr>\n",
       "    <tr>\n",
       "      <th>50%</th>\n",
       "      <td>472.000000</td>\n",
       "      <td>31.000000</td>\n",
       "    </tr>\n",
       "    <tr>\n",
       "      <th>75%</th>\n",
       "      <td>707.500000</td>\n",
       "      <td>43.000000</td>\n",
       "    </tr>\n",
       "    <tr>\n",
       "      <th>max</th>\n",
       "      <td>943.000000</td>\n",
       "      <td>73.000000</td>\n",
       "    </tr>\n",
       "  </tbody>\n",
       "</table>\n",
       "</div>"
      ],
      "text/plain": [
       "          user_id         age\n",
       "count  943.000000  943.000000\n",
       "mean   472.000000   34.051962\n",
       "std    272.364951   12.192740\n",
       "min      1.000000    7.000000\n",
       "25%    236.500000   25.000000\n",
       "50%    472.000000   31.000000\n",
       "75%    707.500000   43.000000\n",
       "max    943.000000   73.000000"
      ]
     },
     "execution_count": 8,
     "metadata": {},
     "output_type": "execute_result"
    }
   ],
   "source": [
    "# to see information about df_users\n",
    "df_users.info()\n",
    "df_users.describe()\n"
   ]
  },
  {
   "cell_type": "code",
   "execution_count": 9,
   "id": "c9462668",
   "metadata": {},
   "outputs": [
    {
     "name": "stdout",
     "output_type": "stream",
     "text": [
      "<class 'pandas.core.frame.DataFrame'>\n",
      "RangeIndex: 100000 entries, 0 to 99999\n",
      "Data columns (total 4 columns):\n",
      " #   Column     Non-Null Count   Dtype\n",
      "---  ------     --------------   -----\n",
      " 0   user_id    100000 non-null  int64\n",
      " 1   movie_id   100000 non-null  int64\n",
      " 2   ratings    100000 non-null  int64\n",
      " 3   timestamp  100000 non-null  int64\n",
      "dtypes: int64(4)\n",
      "memory usage: 3.1 MB\n"
     ]
    },
    {
     "data": {
      "text/html": [
       "<div>\n",
       "<style scoped>\n",
       "    .dataframe tbody tr th:only-of-type {\n",
       "        vertical-align: middle;\n",
       "    }\n",
       "\n",
       "    .dataframe tbody tr th {\n",
       "        vertical-align: top;\n",
       "    }\n",
       "\n",
       "    .dataframe thead th {\n",
       "        text-align: right;\n",
       "    }\n",
       "</style>\n",
       "<table border=\"1\" class=\"dataframe\">\n",
       "  <thead>\n",
       "    <tr style=\"text-align: right;\">\n",
       "      <th></th>\n",
       "      <th>user_id</th>\n",
       "      <th>movie_id</th>\n",
       "      <th>ratings</th>\n",
       "      <th>timestamp</th>\n",
       "    </tr>\n",
       "  </thead>\n",
       "  <tbody>\n",
       "    <tr>\n",
       "      <th>count</th>\n",
       "      <td>100000.00000</td>\n",
       "      <td>100000.000000</td>\n",
       "      <td>100000.000000</td>\n",
       "      <td>1.000000e+05</td>\n",
       "    </tr>\n",
       "    <tr>\n",
       "      <th>mean</th>\n",
       "      <td>462.48475</td>\n",
       "      <td>425.530130</td>\n",
       "      <td>3.529860</td>\n",
       "      <td>8.835289e+08</td>\n",
       "    </tr>\n",
       "    <tr>\n",
       "      <th>std</th>\n",
       "      <td>266.61442</td>\n",
       "      <td>330.798356</td>\n",
       "      <td>1.125674</td>\n",
       "      <td>5.343856e+06</td>\n",
       "    </tr>\n",
       "    <tr>\n",
       "      <th>min</th>\n",
       "      <td>1.00000</td>\n",
       "      <td>1.000000</td>\n",
       "      <td>1.000000</td>\n",
       "      <td>8.747247e+08</td>\n",
       "    </tr>\n",
       "    <tr>\n",
       "      <th>25%</th>\n",
       "      <td>254.00000</td>\n",
       "      <td>175.000000</td>\n",
       "      <td>3.000000</td>\n",
       "      <td>8.794487e+08</td>\n",
       "    </tr>\n",
       "    <tr>\n",
       "      <th>50%</th>\n",
       "      <td>447.00000</td>\n",
       "      <td>322.000000</td>\n",
       "      <td>4.000000</td>\n",
       "      <td>8.828269e+08</td>\n",
       "    </tr>\n",
       "    <tr>\n",
       "      <th>75%</th>\n",
       "      <td>682.00000</td>\n",
       "      <td>631.000000</td>\n",
       "      <td>4.000000</td>\n",
       "      <td>8.882600e+08</td>\n",
       "    </tr>\n",
       "    <tr>\n",
       "      <th>max</th>\n",
       "      <td>943.00000</td>\n",
       "      <td>1682.000000</td>\n",
       "      <td>5.000000</td>\n",
       "      <td>8.932866e+08</td>\n",
       "    </tr>\n",
       "  </tbody>\n",
       "</table>\n",
       "</div>"
      ],
      "text/plain": [
       "            user_id       movie_id        ratings     timestamp\n",
       "count  100000.00000  100000.000000  100000.000000  1.000000e+05\n",
       "mean      462.48475     425.530130       3.529860  8.835289e+08\n",
       "std       266.61442     330.798356       1.125674  5.343856e+06\n",
       "min         1.00000       1.000000       1.000000  8.747247e+08\n",
       "25%       254.00000     175.000000       3.000000  8.794487e+08\n",
       "50%       447.00000     322.000000       4.000000  8.828269e+08\n",
       "75%       682.00000     631.000000       4.000000  8.882600e+08\n",
       "max       943.00000    1682.000000       5.000000  8.932866e+08"
      ]
     },
     "execution_count": 9,
     "metadata": {},
     "output_type": "execute_result"
    }
   ],
   "source": [
    "# to see information about df_ratings\n",
    "df_ratings.info()\n",
    "df_ratings.describe()\n"
   ]
  },
  {
   "cell_type": "code",
   "execution_count": 10,
   "id": "5d798f17",
   "metadata": {},
   "outputs": [
    {
     "data": {
      "text/html": [
       "<div>\n",
       "<style scoped>\n",
       "    .dataframe tbody tr th:only-of-type {\n",
       "        vertical-align: middle;\n",
       "    }\n",
       "\n",
       "    .dataframe tbody tr th {\n",
       "        vertical-align: top;\n",
       "    }\n",
       "\n",
       "    .dataframe thead th {\n",
       "        text-align: right;\n",
       "    }\n",
       "</style>\n",
       "<table border=\"1\" class=\"dataframe\">\n",
       "  <thead>\n",
       "    <tr style=\"text-align: right;\">\n",
       "      <th></th>\n",
       "      <th>movie_id</th>\n",
       "      <th>title</th>\n",
       "      <th>release_date</th>\n",
       "      <th>video_release_date</th>\n",
       "      <th>imdb_url</th>\n",
       "    </tr>\n",
       "  </thead>\n",
       "  <tbody>\n",
       "    <tr>\n",
       "      <th>0</th>\n",
       "      <td>1</td>\n",
       "      <td>Toy Story (1995)</td>\n",
       "      <td>01-Jan-1995</td>\n",
       "      <td>NaN</td>\n",
       "      <td>http://us.imdb.com/M/title-exact?Toy%20Story%2...</td>\n",
       "    </tr>\n",
       "    <tr>\n",
       "      <th>1</th>\n",
       "      <td>2</td>\n",
       "      <td>GoldenEye (1995)</td>\n",
       "      <td>01-Jan-1995</td>\n",
       "      <td>NaN</td>\n",
       "      <td>http://us.imdb.com/M/title-exact?GoldenEye%20(...</td>\n",
       "    </tr>\n",
       "    <tr>\n",
       "      <th>2</th>\n",
       "      <td>3</td>\n",
       "      <td>Four Rooms (1995)</td>\n",
       "      <td>01-Jan-1995</td>\n",
       "      <td>NaN</td>\n",
       "      <td>http://us.imdb.com/M/title-exact?Four%20Rooms%...</td>\n",
       "    </tr>\n",
       "    <tr>\n",
       "      <th>3</th>\n",
       "      <td>4</td>\n",
       "      <td>Get Shorty (1995)</td>\n",
       "      <td>01-Jan-1995</td>\n",
       "      <td>NaN</td>\n",
       "      <td>http://us.imdb.com/M/title-exact?Get%20Shorty%...</td>\n",
       "    </tr>\n",
       "    <tr>\n",
       "      <th>4</th>\n",
       "      <td>5</td>\n",
       "      <td>Copycat (1995)</td>\n",
       "      <td>01-Jan-1995</td>\n",
       "      <td>NaN</td>\n",
       "      <td>http://us.imdb.com/M/title-exact?Copycat%20(1995)</td>\n",
       "    </tr>\n",
       "  </tbody>\n",
       "</table>\n",
       "</div>"
      ],
      "text/plain": [
       "   movie_id              title release_date  video_release_date  \\\n",
       "0         1   Toy Story (1995)  01-Jan-1995                 NaN   \n",
       "1         2   GoldenEye (1995)  01-Jan-1995                 NaN   \n",
       "2         3  Four Rooms (1995)  01-Jan-1995                 NaN   \n",
       "3         4  Get Shorty (1995)  01-Jan-1995                 NaN   \n",
       "4         5     Copycat (1995)  01-Jan-1995                 NaN   \n",
       "\n",
       "                                            imdb_url  \n",
       "0  http://us.imdb.com/M/title-exact?Toy%20Story%2...  \n",
       "1  http://us.imdb.com/M/title-exact?GoldenEye%20(...  \n",
       "2  http://us.imdb.com/M/title-exact?Four%20Rooms%...  \n",
       "3  http://us.imdb.com/M/title-exact?Get%20Shorty%...  \n",
       "4  http://us.imdb.com/M/title-exact?Copycat%20(1995)  "
      ]
     },
     "execution_count": 10,
     "metadata": {},
     "output_type": "execute_result"
    }
   ],
   "source": [
    "# head method for movie\n",
    "df_movies.head()\n"
   ]
  },
  {
   "cell_type": "code",
   "execution_count": 11,
   "id": "2784a9fe",
   "metadata": {},
   "outputs": [
    {
     "data": {
      "text/html": [
       "<div>\n",
       "<style scoped>\n",
       "    .dataframe tbody tr th:only-of-type {\n",
       "        vertical-align: middle;\n",
       "    }\n",
       "\n",
       "    .dataframe tbody tr th {\n",
       "        vertical-align: top;\n",
       "    }\n",
       "\n",
       "    .dataframe thead th {\n",
       "        text-align: right;\n",
       "    }\n",
       "</style>\n",
       "<table border=\"1\" class=\"dataframe\">\n",
       "  <thead>\n",
       "    <tr style=\"text-align: right;\">\n",
       "      <th></th>\n",
       "      <th>user_id</th>\n",
       "      <th>age</th>\n",
       "      <th>gender</th>\n",
       "      <th>occupation</th>\n",
       "      <th>zip_code</th>\n",
       "    </tr>\n",
       "  </thead>\n",
       "  <tbody>\n",
       "    <tr>\n",
       "      <th>0</th>\n",
       "      <td>1</td>\n",
       "      <td>24</td>\n",
       "      <td>M</td>\n",
       "      <td>technician</td>\n",
       "      <td>85711</td>\n",
       "    </tr>\n",
       "    <tr>\n",
       "      <th>1</th>\n",
       "      <td>2</td>\n",
       "      <td>53</td>\n",
       "      <td>F</td>\n",
       "      <td>other</td>\n",
       "      <td>94043</td>\n",
       "    </tr>\n",
       "    <tr>\n",
       "      <th>2</th>\n",
       "      <td>3</td>\n",
       "      <td>23</td>\n",
       "      <td>M</td>\n",
       "      <td>writer</td>\n",
       "      <td>32067</td>\n",
       "    </tr>\n",
       "    <tr>\n",
       "      <th>3</th>\n",
       "      <td>4</td>\n",
       "      <td>24</td>\n",
       "      <td>M</td>\n",
       "      <td>technician</td>\n",
       "      <td>43537</td>\n",
       "    </tr>\n",
       "    <tr>\n",
       "      <th>4</th>\n",
       "      <td>5</td>\n",
       "      <td>33</td>\n",
       "      <td>F</td>\n",
       "      <td>other</td>\n",
       "      <td>15213</td>\n",
       "    </tr>\n",
       "  </tbody>\n",
       "</table>\n",
       "</div>"
      ],
      "text/plain": [
       "   user_id  age gender  occupation zip_code\n",
       "0        1   24      M  technician    85711\n",
       "1        2   53      F       other    94043\n",
       "2        3   23      M      writer    32067\n",
       "3        4   24      M  technician    43537\n",
       "4        5   33      F       other    15213"
      ]
     },
     "execution_count": 11,
     "metadata": {},
     "output_type": "execute_result"
    }
   ],
   "source": [
    "# head method for users\n",
    "df_users.head()"
   ]
  },
  {
   "cell_type": "code",
   "execution_count": 12,
   "id": "4e2d4333",
   "metadata": {},
   "outputs": [
    {
     "data": {
      "text/html": [
       "<div>\n",
       "<style scoped>\n",
       "    .dataframe tbody tr th:only-of-type {\n",
       "        vertical-align: middle;\n",
       "    }\n",
       "\n",
       "    .dataframe tbody tr th {\n",
       "        vertical-align: top;\n",
       "    }\n",
       "\n",
       "    .dataframe thead th {\n",
       "        text-align: right;\n",
       "    }\n",
       "</style>\n",
       "<table border=\"1\" class=\"dataframe\">\n",
       "  <thead>\n",
       "    <tr style=\"text-align: right;\">\n",
       "      <th></th>\n",
       "      <th>user_id</th>\n",
       "      <th>movie_id</th>\n",
       "      <th>ratings</th>\n",
       "      <th>timestamp</th>\n",
       "    </tr>\n",
       "  </thead>\n",
       "  <tbody>\n",
       "    <tr>\n",
       "      <th>0</th>\n",
       "      <td>196</td>\n",
       "      <td>242</td>\n",
       "      <td>3</td>\n",
       "      <td>881250949</td>\n",
       "    </tr>\n",
       "    <tr>\n",
       "      <th>1</th>\n",
       "      <td>186</td>\n",
       "      <td>302</td>\n",
       "      <td>3</td>\n",
       "      <td>891717742</td>\n",
       "    </tr>\n",
       "    <tr>\n",
       "      <th>2</th>\n",
       "      <td>22</td>\n",
       "      <td>377</td>\n",
       "      <td>1</td>\n",
       "      <td>878887116</td>\n",
       "    </tr>\n",
       "    <tr>\n",
       "      <th>3</th>\n",
       "      <td>244</td>\n",
       "      <td>51</td>\n",
       "      <td>2</td>\n",
       "      <td>880606923</td>\n",
       "    </tr>\n",
       "    <tr>\n",
       "      <th>4</th>\n",
       "      <td>166</td>\n",
       "      <td>346</td>\n",
       "      <td>1</td>\n",
       "      <td>886397596</td>\n",
       "    </tr>\n",
       "  </tbody>\n",
       "</table>\n",
       "</div>"
      ],
      "text/plain": [
       "   user_id  movie_id  ratings  timestamp\n",
       "0      196       242        3  881250949\n",
       "1      186       302        3  891717742\n",
       "2       22       377        1  878887116\n",
       "3      244        51        2  880606923\n",
       "4      166       346        1  886397596"
      ]
     },
     "execution_count": 12,
     "metadata": {},
     "output_type": "execute_result"
    }
   ],
   "source": [
    "# head method for ratings\n",
    "df_ratings.head()"
   ]
  },
  {
   "cell_type": "code",
   "execution_count": 13,
   "id": "acf45080",
   "metadata": {},
   "outputs": [
    {
     "name": "stdout",
     "output_type": "stream",
     "text": [
      "Number of rows in df_movies: 1682\n",
      "Number of rows in df_ratings: 100000\n",
      "Number of rows in df_users: 943\n"
     ]
    }
   ],
   "source": [
    "# Finding row in each of them\n",
    "rows_movies = df_movies.shape[0]\n",
    "rows_ratings = df_ratings.shape[0]\n",
    "rows_users = df_users.shape[0]\n",
    "print(\"Number of rows in df_movies:\", rows_movies)\n",
    "print(\"Number of rows in df_ratings:\", rows_ratings)\n",
    "print(\"Number of rows in df_users:\", rows_users)\n"
   ]
  },
  {
   "cell_type": "code",
   "execution_count": 15,
   "id": "e5c69718",
   "metadata": {},
   "outputs": [
    {
     "name": "stdout",
     "output_type": "stream",
     "text": [
      "unique ratings is [3 1 2 4 5]\n",
      "number of unique ratings: 5\n"
     ]
    }
   ],
   "source": [
    "# to find unique rating column--\n",
    "unique_ratings = df_ratings['ratings'].unique()\n",
    "unique_ratings_number = df_ratings['ratings'].nunique()\n",
    "print(\"unique ratings is\", unique_ratings)\n",
    "print(\"number of unique ratings:\",unique_ratings_number)\n"
   ]
  },
  {
   "cell_type": "code",
   "execution_count": 16,
   "id": "b2e283f6",
   "metadata": {},
   "outputs": [
    {
     "name": "stdout",
     "output_type": "stream",
     "text": [
      "Number of Unique User is 943\n"
     ]
    }
   ],
   "source": [
    "# unique values in the user_id column\n",
    "unique_users = df_ratings['user_id'].nunique()\n",
    "print(\"Number of Unique User is\", unique_users)\n"
   ]
  },
  {
   "cell_type": "code",
   "execution_count": 21,
   "id": "53d8ac28",
   "metadata": {},
   "outputs": [
    {
     "data": {
      "image/png": "[encoded data removed]",
      "text/plain": [
       "<Figure size 432x288 with 1 Axes>"
      ]
     },
     "metadata": {
      "needs_background": "light"
     },
     "output_type": "display_data"
    }
   ],
   "source": [
    "# histogram of the histogram of the number of �mes each of the ra�ngs were used.\n",
    "plt.hist(df_ratings['ratings'], bins=10, edgecolor='black')  \n",
    "plt.xlabel('Ratings')\n",
    "plt.ylabel('Frequency')\n",
    "plt.title('Ratings')\n",
    "plt.grid(axis='y', alpha=0.75)\n",
    "plt.show()\n"
   ]
  },
  {
   "cell_type": "code",
   "execution_count": 24,
   "id": "e36fe4a2",
   "metadata": {},
   "outputs": [
    {
     "name": "stdout",
     "output_type": "stream",
     "text": [
      "most rated movie is Star Wars (1977)\n",
      "Number of Ratings: 583\n"
     ]
    }
   ],
   "source": [
    "count_movies = df_ratings['movie_id'].value_counts() # counts the value of each movie \n",
    "most_rated_movie_id = count_movies.idxmax() # finding the  movie with high count \n",
    "movie_title = df_movies[df_movies['movie_id'] == most_rated_movie_id]['title'].values[0] # to find the name of the top rated movie\n",
    "\n",
    "print(\"most rated movie is\", movie_title)\n",
    "print(\"Number of Ratings:\", count_movies.max()) # dsiplay the overall count of the movie\n"
   ]
  },
  {
   "cell_type": "code",
   "execution_count": 61,
   "id": "c41578ee",
   "metadata": {},
   "outputs": [
    {
     "name": "stdout",
     "output_type": "stream",
     "text": [
      "5 Ratings is 50\n",
      "movie name is Star Wars (1977)\n"
     ]
    }
   ],
   "source": [
    "# 8\n",
    "highly_rated_movies = df_ratings[df_ratings['ratings'] == 5] # filter for movie with rathing 5\n",
    "most_5_rated_movie_id = highly_rated_movies['movie_id'].value_counts().idxmax() # counting the most by movie id \n",
    "most_5_rated_movie_title = df_movies[df_movies['movie_id'] == most_5_rated_movie_id]['title'].values[0]\n",
    "print(\"5 Ratings is\", most_5_rated_movie_id)\n",
    "print(\"movie name is\", most_5_rated_movie_title)\n"
   ]
  },
  {
   "cell_type": "code",
   "execution_count": 29,
   "id": "106853d7",
   "metadata": {},
   "outputs": [
    {
     "data": {
      "image/png": "[encoded data removed]",
      "text/plain": [
       "<Figure size 432x288 with 1 Axes>"
      ]
     },
     "metadata": {
      "needs_background": "light"
     },
     "output_type": "display_data"
    }
   ],
   "source": [
    "# 9 - histrogram histogram of the frequency of ratings by user\n",
    "ratings_count = df_ratings['user_id'].value_counts()\n",
    "plt.hist(ratings_count, bins=20, edgecolor='black')  \n",
    "plt.xlabel('ratings by user')\n",
    "plt.ylabel('frequency')\n",
    "plt.title('frequency of ratings by user')\n",
    "plt.grid(axis='y', alpha=0.75)\n",
    "plt.show()\n"
   ]
  },
  {
   "cell_type": "code",
   "execution_count": 62,
   "id": "afb6675a",
   "metadata": {},
   "outputs": [
    {
     "name": "stdout",
     "output_type": "stream",
     "text": [
      "most Movies released on 01-Jan-1995\n",
      "date: 215\n"
     ]
    }
   ],
   "source": [
    "# 10- date with the greatest number of movies released? \n",
    "movie_release_counts = df_movies['release_date'].value_counts() # count by relaese date\n",
    "most_movies = movie_release_counts.idxmax() # finding the max of them \n",
    "print(\"most Movies released on\", most_movies)\n",
    "print(\"date:\", movie_release_counts.max())\n"
   ]
  },
  {
   "cell_type": "code",
   "execution_count": 68,
   "id": "1d414c38",
   "metadata": {},
   "outputs": [
    {
     "data": {
      "text/html": [
       "<div>\n",
       "<style scoped>\n",
       "    .dataframe tbody tr th:only-of-type {\n",
       "        vertical-align: middle;\n",
       "    }\n",
       "\n",
       "    .dataframe tbody tr th {\n",
       "        vertical-align: top;\n",
       "    }\n",
       "\n",
       "    .dataframe thead th {\n",
       "        text-align: right;\n",
       "    }\n",
       "</style>\n",
       "<table border=\"1\" class=\"dataframe\">\n",
       "  <thead>\n",
       "    <tr style=\"text-align: right;\">\n",
       "      <th></th>\n",
       "      <th>user_id</th>\n",
       "      <th>movie_id</th>\n",
       "      <th>ratings</th>\n",
       "      <th>timestamp</th>\n",
       "      <th>title</th>\n",
       "      <th>release_date</th>\n",
       "      <th>video_release_date</th>\n",
       "      <th>imdb_url</th>\n",
       "    </tr>\n",
       "  </thead>\n",
       "  <tbody>\n",
       "    <tr>\n",
       "      <th>0</th>\n",
       "      <td>196</td>\n",
       "      <td>242</td>\n",
       "      <td>3</td>\n",
       "      <td>881250949</td>\n",
       "      <td>Kolya (1996)</td>\n",
       "      <td>24-Jan-1997</td>\n",
       "      <td>NaN</td>\n",
       "      <td>http://us.imdb.com/M/title-exact?Kolya%20(1996)</td>\n",
       "    </tr>\n",
       "    <tr>\n",
       "      <th>1</th>\n",
       "      <td>63</td>\n",
       "      <td>242</td>\n",
       "      <td>3</td>\n",
       "      <td>875747190</td>\n",
       "      <td>Kolya (1996)</td>\n",
       "      <td>24-Jan-1997</td>\n",
       "      <td>NaN</td>\n",
       "      <td>http://us.imdb.com/M/title-exact?Kolya%20(1996)</td>\n",
       "    </tr>\n",
       "    <tr>\n",
       "      <th>2</th>\n",
       "      <td>226</td>\n",
       "      <td>242</td>\n",
       "      <td>5</td>\n",
       "      <td>883888671</td>\n",
       "      <td>Kolya (1996)</td>\n",
       "      <td>24-Jan-1997</td>\n",
       "      <td>NaN</td>\n",
       "      <td>http://us.imdb.com/M/title-exact?Kolya%20(1996)</td>\n",
       "    </tr>\n",
       "    <tr>\n",
       "      <th>3</th>\n",
       "      <td>154</td>\n",
       "      <td>242</td>\n",
       "      <td>3</td>\n",
       "      <td>879138235</td>\n",
       "      <td>Kolya (1996)</td>\n",
       "      <td>24-Jan-1997</td>\n",
       "      <td>NaN</td>\n",
       "      <td>http://us.imdb.com/M/title-exact?Kolya%20(1996)</td>\n",
       "    </tr>\n",
       "    <tr>\n",
       "      <th>4</th>\n",
       "      <td>306</td>\n",
       "      <td>242</td>\n",
       "      <td>5</td>\n",
       "      <td>876503793</td>\n",
       "      <td>Kolya (1996)</td>\n",
       "      <td>24-Jan-1997</td>\n",
       "      <td>NaN</td>\n",
       "      <td>http://us.imdb.com/M/title-exact?Kolya%20(1996)</td>\n",
       "    </tr>\n",
       "    <tr>\n",
       "      <th>...</th>\n",
       "      <td>...</td>\n",
       "      <td>...</td>\n",
       "      <td>...</td>\n",
       "      <td>...</td>\n",
       "      <td>...</td>\n",
       "      <td>...</td>\n",
       "      <td>...</td>\n",
       "      <td>...</td>\n",
       "    </tr>\n",
       "    <tr>\n",
       "      <th>99995</th>\n",
       "      <td>840</td>\n",
       "      <td>1674</td>\n",
       "      <td>4</td>\n",
       "      <td>891211682</td>\n",
       "      <td>Mamma Roma (1962)</td>\n",
       "      <td>01-Jan-1962</td>\n",
       "      <td>NaN</td>\n",
       "      <td>http://us.imdb.com/M/title-exact?Mamma%20Roma%...</td>\n",
       "    </tr>\n",
       "    <tr>\n",
       "      <th>99996</th>\n",
       "      <td>655</td>\n",
       "      <td>1640</td>\n",
       "      <td>3</td>\n",
       "      <td>888474646</td>\n",
       "      <td>Eighth Day, The (1996)</td>\n",
       "      <td>01-Nov-1996</td>\n",
       "      <td>NaN</td>\n",
       "      <td>http://us.imdb.com/Title?Huiti%E8me+jour,+Le+(...</td>\n",
       "    </tr>\n",
       "    <tr>\n",
       "      <th>99997</th>\n",
       "      <td>655</td>\n",
       "      <td>1637</td>\n",
       "      <td>3</td>\n",
       "      <td>888984255</td>\n",
       "      <td>Girls Town (1996)</td>\n",
       "      <td>23-Aug-1996</td>\n",
       "      <td>NaN</td>\n",
       "      <td>http://us.imdb.com/M/title-exact?Girls%20Town%...</td>\n",
       "    </tr>\n",
       "    <tr>\n",
       "      <th>99998</th>\n",
       "      <td>655</td>\n",
       "      <td>1630</td>\n",
       "      <td>3</td>\n",
       "      <td>887428735</td>\n",
       "      <td>Silence of the Palace, The (Saimt el Qusur) (1...</td>\n",
       "      <td>02-Feb-1996</td>\n",
       "      <td>NaN</td>\n",
       "      <td>http://us.imdb.com/M/title-exact?Saimt%20el%20...</td>\n",
       "    </tr>\n",
       "    <tr>\n",
       "      <th>99999</th>\n",
       "      <td>655</td>\n",
       "      <td>1641</td>\n",
       "      <td>3</td>\n",
       "      <td>887427810</td>\n",
       "      <td>Dadetown (1995)</td>\n",
       "      <td>18-Sep-1996</td>\n",
       "      <td>NaN</td>\n",
       "      <td>http://us.imdb.com/M/title-exact?Dadetown%20(1...</td>\n",
       "    </tr>\n",
       "  </tbody>\n",
       "</table>\n",
       "<p>100000 rows × 8 columns</p>\n",
       "</div>"
      ],
      "text/plain": [
       "       user_id  movie_id  ratings  timestamp  \\\n",
       "0          196       242        3  881250949   \n",
       "1           63       242        3  875747190   \n",
       "2          226       242        5  883888671   \n",
       "3          154       242        3  879138235   \n",
       "4          306       242        5  876503793   \n",
       "...        ...       ...      ...        ...   \n",
       "99995      840      1674        4  891211682   \n",
       "99996      655      1640        3  888474646   \n",
       "99997      655      1637        3  888984255   \n",
       "99998      655      1630        3  887428735   \n",
       "99999      655      1641        3  887427810   \n",
       "\n",
       "                                                   title release_date  \\\n",
       "0                                           Kolya (1996)  24-Jan-1997   \n",
       "1                                           Kolya (1996)  24-Jan-1997   \n",
       "2                                           Kolya (1996)  24-Jan-1997   \n",
       "3                                           Kolya (1996)  24-Jan-1997   \n",
       "4                                           Kolya (1996)  24-Jan-1997   \n",
       "...                                                  ...          ...   \n",
       "99995                                  Mamma Roma (1962)  01-Jan-1962   \n",
       "99996                             Eighth Day, The (1996)  01-Nov-1996   \n",
       "99997                                  Girls Town (1996)  23-Aug-1996   \n",
       "99998  Silence of the Palace, The (Saimt el Qusur) (1...  02-Feb-1996   \n",
       "99999                                    Dadetown (1995)  18-Sep-1996   \n",
       "\n",
       "       video_release_date                                           imdb_url  \n",
       "0                     NaN    http://us.imdb.com/M/title-exact?Kolya%20(1996)  \n",
       "1                     NaN    http://us.imdb.com/M/title-exact?Kolya%20(1996)  \n",
       "2                     NaN    http://us.imdb.com/M/title-exact?Kolya%20(1996)  \n",
       "3                     NaN    http://us.imdb.com/M/title-exact?Kolya%20(1996)  \n",
       "4                     NaN    http://us.imdb.com/M/title-exact?Kolya%20(1996)  \n",
       "...                   ...                                                ...  \n",
       "99995                 NaN  http://us.imdb.com/M/title-exact?Mamma%20Roma%...  \n",
       "99996                 NaN  http://us.imdb.com/Title?Huiti%E8me+jour,+Le+(...  \n",
       "99997                 NaN  http://us.imdb.com/M/title-exact?Girls%20Town%...  \n",
       "99998                 NaN  http://us.imdb.com/M/title-exact?Saimt%20el%20...  \n",
       "99999                 NaN  http://us.imdb.com/M/title-exact?Dadetown%20(1...  \n",
       "\n",
       "[100000 rows x 8 columns]"
      ]
     },
     "execution_count": 68,
     "metadata": {},
     "output_type": "execute_result"
    }
   ],
   "source": [
    "# 11 -DataFrames for ra�ngs and movies data for a comprehensive dataset\n",
    "new_df = df_ratings.merge(df_movies, on='movie_id') #Merge the df_ratings and df_movies\n",
    "new_df"
   ]
  },
  {
   "cell_type": "code",
   "execution_count": 69,
   "id": "6ee759c6",
   "metadata": {},
   "outputs": [
    {
     "name": "stdout",
     "output_type": "stream",
     "text": [
      "Number of times 'Star Wars (1977)' was rated is 583\n"
     ]
    }
   ],
   "source": [
    "#�mes was the movie 'Star Wars (1977)' rated?\n",
    "star_wars = combined_df[combined_df['title'] == 'Star Wars (1977)'] # filter for str wars \n",
    "count_star_wars = star_wars.shape[0] # count the number how many times star war was there\n",
    "print(\"Number of times 'Star Wars (1977)' was rated is\", count_star_wars)\n"
   ]
  },
  {
   "cell_type": "code",
   "execution_count": 70,
   "id": "4773cf3a",
   "metadata": {},
   "outputs": [
    {
     "data": {
      "image/png": "[encoded data removed]",
      "text/plain": [
       "<Figure size 432x288 with 1 Axes>"
      ]
     },
     "metadata": {
      "needs_background": "light"
     },
     "output_type": "display_data"
    }
   ],
   "source": [
    "# 13 - istogram using the number of ra�ngs per movie\n",
    "\n",
    "movie_rating_counts = combined_df['title'].value_counts()\n",
    "plt.hist(movie_rating_counts, bins=50, edgecolor='black')  \n",
    "plt.xlabel('Movie') # x axis\n",
    "plt.ylabel('frequency') # y axis\n",
    "plt.title('Histogram using the number of ratinngs per movie')\n",
    "plt.grid(axis='y', alpha=0.75)\n",
    "plt.show()\n"
   ]
  },
  {
   "cell_type": "code",
   "execution_count": 71,
   "id": "13d31285",
   "metadata": {},
   "outputs": [
    {
     "data": {
      "image/png": "[encoded data removed]",
      "text/plain": [
       "<Figure size 864x576 with 1 Axes>"
      ]
     },
     "metadata": {
      "needs_background": "light"
     },
     "output_type": "display_data"
    }
   ],
   "source": [
    "#14 -\n",
    "\n",
    "movie_avg_ratings = combined_df.groupby('title')['ratings'].mean() # putting together the title and ratings\n",
    "top_rated_movies = movie_avg_ratings.sort_values(ascending=False).head(10)  # You can change the number of top-rated movies to display\n",
    "\n",
    "# bar chart\n",
    "plt.figure(figsize=(12, 8)) \n",
    "top_rated_movies.plot(kind='bar', color='skyblue')\n",
    "plt.xlabel('Movie Title')\n",
    "plt.ylabel('Average Rating')\n",
    "plt.title('Top-Rated Movies')\n",
    "plt.xticks(rotation=45, ha='right') # ti display the names \n",
    "plt.show()\n"
   ]
  },
  {
   "cell_type": "code",
   "execution_count": 59,
   "id": "c63ba553",
   "metadata": {},
   "outputs": [
    {
     "name": "stdout",
     "output_type": "stream",
     "text": [
      "       user_id  movie_id  ratings  timestamp                         title  \\\n",
      "14541      721       318        4  877140047       Schindler's List (1993)   \n",
      "66833      659       387        4  891387227  Age of Innocence, The (1993)   \n",
      "\n",
      "      release_date  video_release_date  \\\n",
      "14541  01-Jan-1993                 NaN   \n",
      "66833  01-Jan-1993                 NaN   \n",
      "\n",
      "                                                imdb_url  age gender  \\\n",
      "14541  http://us.imdb.com/M/title-exact?Schindler's%2...   24      F   \n",
      "66833  http://us.imdb.com/M/title-exact?Age%20of%20In...   31      M   \n",
      "\n",
      "          occupation zip_code  \n",
      "14541  entertainment    11238  \n",
      "66833       educator    54248  \n"
     ]
    }
   ],
   "source": [
    "# 15\n",
    "# Merge the user  with user_id\n",
    "combined = combined_df.merge(df_users, on='user_id')\n",
    "combined_df = combined.sample(2)  # disply 2 samples \n",
    "print(combined_df)\n"
   ]
  },
  {
   "cell_type": "code",
   "execution_count": 57,
   "id": "964b0c47",
   "metadata": {},
   "outputs": [
    {
     "name": "stdout",
     "output_type": "stream",
     "text": [
      "                                       count      mean\n",
      "title                                                 \n",
      "'Til There Was You (1997)                  9  2.333333\n",
      "1-900 (1994)                               5  2.600000\n",
      "101 Dalmatians (1996)                    109  2.908257\n",
      "12 Angry Men (1957)                      125  4.344000\n",
      "187 (1997)                                41  3.024390\n",
      "...                                      ...       ...\n",
      "Young Guns II (1990)                      44  2.772727\n",
      "Young Poisoner's Handbook, The (1995)     41  3.341463\n",
      "Zeus and Roxanne (1997)                    6  2.166667\n",
      "unknown                                    9  3.444444\n",
      "Á köldum klaka (Cold Fever) (1994)         1  3.000000\n",
      "\n",
      "[1664 rows x 2 columns]\n"
     ]
    }
   ],
   "source": [
    "# 16 e number of ra�ngs and average ra�ng for each movie.\n",
    "movie_ratings2 = final_combined_df.groupby('title')['ratings'].agg(['count', 'mean'])\n",
    "print(movie_ratings2)"
   ]
  },
  {
   "cell_type": "code",
   "execution_count": 54,
   "id": "9f5c5b9a",
   "metadata": {},
   "outputs": [
    {
     "name": "stdout",
     "output_type": "stream",
     "text": [
      "                                  Number of Ratings  Average Rating\n",
      "title                                                              \n",
      "Close Shave, A (1995)                           112        4.491071\n",
      "Schindler's List (1993)                         298        4.466443\n",
      "Wrong Trousers, The (1993)                      118        4.466102\n",
      "Casablanca (1942)                               243        4.456790\n",
      "Shawshank Redemption, The (1994)                283        4.445230\n",
      "...                                             ...             ...\n",
      "Spawn (1997)                                    143        2.615385\n",
      "Event Horizon (1997)                            127        2.574803\n",
      "Crash (1996)                                    128        2.546875\n",
      "Jungle2Jungle (1997)                            132        2.439394\n",
      "Cable Guy, The (1996)                           106        2.339623\n",
      "\n",
      "[338 rows x 2 columns]\n"
     ]
    }
   ],
   "source": [
    "#17   top-rated movies with a minimum ra�ng count of 100.\n",
    "top_rated_movies = movie_ratings_stats[movie_ratings_stats['Number of Ratings'] >= 100] # filter the movie with ratings \n",
    "top_rated_movies = top_rated_movies.sort_values(by='Average Rating', ascending=False) # sort in ascending order \n",
    "print(top_rated_movies)\n"
   ]
  },
  {
   "cell_type": "code",
   "execution_count": 53,
   "id": "e2810649",
   "metadata": {},
   "outputs": [
    {
     "data": {
      "image/png": "[encoded data removed]",
      "text/plain": [
       "<Figure size 864x432 with 2 Axes>"
      ]
     },
     "metadata": {
      "needs_background": "light"
     },
     "output_type": "display_data"
    }
   ],
   "source": [
    "# 18 average ra�ng for each movie by gender. Draw a histogram for each gender.\n",
    "\n",
    "gender_rating = final_combined_df.pivot_table(index='title', columns='gender', values='ratings', aggfunc='mean') \n",
    "average_rating_by_gender = gender_rating.mean(axis=0) # for average rating \n",
    "male_ratings = gender_rating['M'].dropna()\n",
    "female_ratings = gender_rating['F'].dropna()\n",
    "\n",
    "# histrogram for female and male rating\n",
    "plt.figure(figsize=(12, 6))\n",
    "\n",
    "plt.subplot(1, 2, 1)\n",
    "plt.hist(male_ratings, bins=50, edgecolor='black', color='skyblue')\n",
    "plt.xlabel('average rating')\n",
    "plt.ylabel('frequency')\n",
    "plt.title('male ratings')\n",
    "plt.grid(axis='y', alpha=0.75)\n",
    "\n",
    "plt.subplot(1, 2, 2)\n",
    "plt.hist(female_ratings, bins=50, edgecolor='black', color='pink')\n",
    "plt.xlabel('average aating')\n",
    "plt.ylabel('frequency')\n",
    "plt.title('female ratings')\n",
    "plt.grid(axis='y', alpha=0.75)\n",
    "\n",
    "plt.tight_layout()\n",
    "plt.show()\n"
   ]
  },
  {
   "cell_type": "code",
   "execution_count": 42,
   "id": "09790328",
   "metadata": {},
   "outputs": [
    {
     "name": "stdout",
     "output_type": "stream",
     "text": [
      "student          21957\n",
      "other            10663\n",
      "educator          9442\n",
      "engineer          8175\n",
      "programmer        7801\n",
      "administrator     7479\n",
      "writer            5536\n",
      "librarian         5273\n",
      "technician        3506\n",
      "executive         3403\n",
      "healthcare        2804\n",
      "artist            2308\n",
      "entertainment     2095\n",
      "scientist         2058\n",
      "marketing         1950\n",
      "retired           1609\n",
      "lawyer            1345\n",
      "none               901\n",
      "salesman           856\n",
      "doctor             540\n",
      "homemaker          299\n",
      "Name: occupation, dtype: int64\n"
     ]
    }
   ],
   "source": [
    "#19\n",
    "# list of the number of people in each occupation in descending order.\n",
    "occupation_counts = final_combined_df['occupation'].value_counts() # by doing this the the display is showed from higgest to lowest in normal sense \n",
    "print(occupation_counts)\n"
   ]
  },
  {
   "cell_type": "code",
   "execution_count": 48,
   "id": "e32e9a5c",
   "metadata": {},
   "outputs": [
    {
     "data": {
      "image/png": "[encoded data removed]",
      "text/plain": [
       "<Figure size 864x432 with 1 Axes>"
      ]
     },
     "metadata": {
      "needs_background": "light"
     },
     "output_type": "display_data"
    }
   ],
   "source": [
    "# 20\n",
    "#Create a bar chart of occupations\n",
    "plt.figure(figsize=(12, 6))\n",
    "occupation_counts.plot(kind='bar', color='skyblue')\n",
    "plt.xlabel('Occupation')\n",
    "plt.ylabel('Number of People')\n",
    "plt.title('Occupations')\n",
    "plt.xticks(rotation=45, ha='right')  # Rotate x-axis labels for readability\n",
    "plt.grid(axis='y', alpha=0.75)\n",
    "plt.tight_layout()\n",
    "plt.show()\n"
   ]
  },
  {
   "cell_type": "code",
   "execution_count": 45,
   "id": "8363fa8c",
   "metadata": {},
   "outputs": [
    {
     "data": {
      "image/png": "[encoded data removed]",
      "text/plain": [
       "<Figure size 432x576 with 1 Axes>"
      ]
     },
     "metadata": {
      "needs_background": "light"
     },
     "output_type": "display_data"
    }
   ],
   "source": [
    "#21\n",
    "# Create a boxplot for the age column\n",
    "plt.figure(figsize=(6, 8))\n",
    "plt.boxplot(final_combined_df['age'], vert=False, widths=0.7, patch_artist=True, boxprops=dict(facecolor='skyblue'))\n",
    "plt.xlabel('age')\n",
    "plt.title('boxplot for the age column')\n",
    "plt.show()\n"
   ]
  },
  {
   "cell_type": "code",
   "execution_count": null,
   "id": "5f34c7b5",
   "metadata": {},
   "outputs": [],
   "source": []
  }
 ],
 "metadata": {
  "kernelspec": {
   "display_name": "Python 3 (ipykernel)",
   "language": "python",
   "name": "python3"
  },
  "language_info": {
   "codemirror_mode": {
    "name": "ipython",
    "version": 3
   },
   "file_extension": ".py",
   "mimetype": "text/x-python",
   "name": "python",
   "nbconvert_exporter": "python",
   "pygments_lexer": "ipython3",
   "version": "3.9.12"
  }
 },
 "nbformat": 4,
 "nbformat_minor": 5
}
