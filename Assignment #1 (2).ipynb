{
 "cells": [
  {
   "cell_type": "code",
   "execution_count": null,
   "id": "66495e3c",
   "metadata": {},
   "outputs": [],
   "source": [
    "import matplotlib.pyplot as plt\n",
    "import numpy as np"
   ]
  },
  {
   "cell_type": "markdown",
   "id": "1485042f",
   "metadata": {},
   "source": [
    "# Numpy"
   ]
  },
  {
   "cell_type": "code",
   "execution_count": 1,
   "id": "9578ba17",
   "metadata": {},
   "outputs": [
    {
     "name": "stdout",
     "output_type": "stream",
     "text": [
      "[[0. 0. 0. 0. 0.]\n",
      " [0. 0. 0. 0. 0.]\n",
      " [0. 0. 0. 0. 0.]\n",
      " [0. 0. 0. 0. 0.]\n",
      " [0. 0. 0. 0. 0.]]\n"
     ]
    }
   ],
   "source": [
    "# 1. Create a NumPy array of shape (5, 5) filled with zeros.\n",
    "\n",
    "import numpy as np\n",
    "\n",
    "array1 = np.zeros((5, 5))\n",
    "print(array1)\n",
    "\n"
   ]
  },
  {
   "cell_type": "code",
   "execution_count": 2,
   "id": "5fb21d3e",
   "metadata": {},
   "outputs": [
    {
     "name": "stdout",
     "output_type": "stream",
     "text": [
      "[[0.30284341 0.0735182  0.20693591 0.65150685]\n",
      " [0.48325444 0.01462878 0.50518744 0.23254268]\n",
      " [0.92593895 0.94250007 0.59406611 0.53626502]]\n"
     ]
    }
   ],
   "source": [
    "# 2. Create a NumPy array of shape (3, 4) filled with random numbers.\n",
    "\n",
    "array2 = np.random.rand(3, 4) #by using the function rand, random number are generated\n",
    "print(array2)\n"
   ]
  },
  {
   "cell_type": "code",
   "execution_count": 3,
   "id": "0b02787d",
   "metadata": {},
   "outputs": [
    {
     "name": "stdout",
     "output_type": "stream",
     "text": [
      "5.469187851015977\n"
     ]
    }
   ],
   "source": [
    "# 3. Find the sum of all elements in the previous NumPy array.\n",
    "array_sum = np.sum(array2) #by using the function SUM, SUM IS CALCULATED\n",
    "print(array_sum)"
   ]
  },
  {
   "cell_type": "code",
   "execution_count": 4,
   "id": "d2099425",
   "metadata": {},
   "outputs": [
    {
     "name": "stdout",
     "output_type": "stream",
     "text": [
      "0.45576565425133136\n"
     ]
    }
   ],
   "source": [
    "# 4. Calculate the mean value of of the previous NumPy array\n",
    "array_mean = np.mean(array2)#by using the function MEAN, MEAN IS CALCULATED\n",
    "print(array_mean)"
   ]
  },
  {
   "cell_type": "code",
   "execution_count": 7,
   "id": "6a017013",
   "metadata": {},
   "outputs": [
    {
     "name": "stdout",
     "output_type": "stream",
     "text": [
      "MAX IS 0.9425000745171308\n",
      "MIN IS 0.014628782897851855\n"
     ]
    }
   ],
   "source": [
    "# 5. Find the maximum and minimum value of the previous NumPy array.\n",
    "array_max = np.max(array2)  #by using the function MAX, MAX IS CALCULATED\n",
    "array_min = np.min(array2)  #by using the function MAX, MAX IS CALCULATED\n",
    "print(\"MAX IS\",array_max)\n",
    "print(\"MIN IS\",array_min)\n"
   ]
  },
  {
   "cell_type": "code",
   "execution_count": 9,
   "id": "39ddee53",
   "metadata": {},
   "outputs": [
    {
     "name": "stdout",
     "output_type": "stream",
     "text": [
      "[[0.30284341 0.0735182  0.20693591 0.65150685 0.48325444 0.01462878]\n",
      " [0.50518744 0.23254268 0.92593895 0.94250007 0.59406611 0.53626502]]\n"
     ]
    }
   ],
   "source": [
    "# 6. reshape the array into a 2 by 6 array\n",
    "\n",
    "reshaped_array = array2.reshape(2, 6)  # reshape IS THE FUNCTION , THAT LETS US CHANGE THE SHAPE \n",
    "print(reshaped_array) "
   ]
  },
  {
   "cell_type": "code",
   "execution_count": 15,
   "id": "aa796c04",
   "metadata": {},
   "outputs": [
    {
     "name": "stdout",
     "output_type": "stream",
     "text": [
      "[[0.52180123 0.16356249 0.15292964]\n",
      " [0.15799715 0.27146566 0.69687791]\n",
      " [0.53682752 0.02847279 0.49164215]\n",
      " [0.80779068 0.50308102 0.46857635]]\n",
      "sum along each row [0.83829336 1.12634072 1.05694246 1.77944805]\n",
      "index of the row with the maximum sum 3\n",
      "row from the 2D array [0.80779068 0.50308102 0.46857635]\n"
     ]
    }
   ],
   "source": [
    "# 7. Write the code to perform the following tasks:\n",
    "\n",
    "# Import the NumPy library\n",
    "# Create a 2D NumPy array of shape (4, 3)\n",
    "# Calculate the sum along each row\n",
    "# Find the index of the row with the maximum sum\n",
    "# Extract that row from the 2D array\n",
    "# Print the row sums and the row with the maximum sum\n",
    "\n",
    "array2d = np.random.rand(4, 3)\n",
    "print(array2d)\n",
    "sum_row = np.sum(array2d, axis=1)\n",
    "max_index = np.argmax(sum_row)  # FOR FINDING INDEX , I HAVE USED THE FUNCTION argmax\n",
    "row_index = array2d[max_index]  # SEARCHING THE ABOVE INDEX IN THIS STEP\n",
    "print(\"sum along each row\", sum_row)\n",
    "print(\"index of the row with the maximum sum\", max_index)\n",
    "print(\"row from the 2D array\", row_index)"
   ]
  },
  {
   "cell_type": "code",
   "execution_count": 29,
   "id": "c0584fc3",
   "metadata": {},
   "outputs": [
    {
     "name": "stdout",
     "output_type": "stream",
     "text": [
      "[[2 2]\n",
      " [2 2]]\n",
      "[[1 1]\n",
      " [1 1]]\n",
      "[[2 2]\n",
      " [2 2]]\n"
     ]
    }
   ],
   "source": [
    "# 8.\n",
    "# Write a Python function that takes two 2D NumPy arrays A and B of the same shape and performs the specified operations:\n",
    "# adding, multiplying, dot-product\n",
    "\n",
    "# Test your function with two 3x3 arrays of random integers\n",
    "\n",
    "import numpy as np\n",
    "\n",
    "def perform_operations(A, B):\n",
    "    if A.shape != B.shape:\n",
    "        raise ValueError(\"Arrays need to be same size\")  # WILL GIVE ERROR IF ITS NOT SAME SHAPE\n",
    "    add = A + B\n",
    "    mult = A * B\n",
    "    dot = np.dot(A, B)\n",
    "    return add, mult, dot\n",
    "\n",
    "A = np.array([[1, 1], [1, 1]])\n",
    "B = np.array([[1, 1], [1, 1 ]])\n",
    "\n",
    "add, mult, dot1 = perform_operations(A, B)\n",
    "\n",
    "print(add)\n",
    "\n",
    "\n",
    "print(mult)\n",
    "\n",
    "\n",
    "print(dot1)\n",
    "\n",
    "\n"
   ]
  },
  {
   "cell_type": "code",
   "execution_count": 31,
   "id": "796a1b10",
   "metadata": {},
   "outputs": [
    {
     "ename": "ValueError",
     "evalue": "shapes (2,3) and (2,3) not aligned: 3 (dim 1) != 2 (dim 0)",
     "output_type": "error",
     "traceback": [
      "\u001b[1;31m---------------------------------------------------------------------------\u001b[0m",
      "\u001b[1;31mValueError\u001b[0m                                Traceback (most recent call last)",
      "Input \u001b[1;32mIn [31]\u001b[0m, in \u001b[0;36m<cell line: 4>\u001b[1;34m()\u001b[0m\n\u001b[0;32m      1\u001b[0m C \u001b[38;5;241m=\u001b[39m np\u001b[38;5;241m.\u001b[39marray([[\u001b[38;5;241m1\u001b[39m, \u001b[38;5;241m1\u001b[39m , \u001b[38;5;241m1\u001b[39m], [\u001b[38;5;241m1\u001b[39m, \u001b[38;5;241m1\u001b[39m , \u001b[38;5;241m1\u001b[39m]])\n\u001b[0;32m      2\u001b[0m D \u001b[38;5;241m=\u001b[39m np\u001b[38;5;241m.\u001b[39marray([[\u001b[38;5;241m1\u001b[39m, \u001b[38;5;241m1\u001b[39m, \u001b[38;5;241m1\u001b[39m], [\u001b[38;5;241m1\u001b[39m, \u001b[38;5;241m1\u001b[39m , \u001b[38;5;241m1\u001b[39m]])\n\u001b[1;32m----> 4\u001b[0m add2, mult2 \u001b[38;5;241m=\u001b[39m \u001b[43mperform_operations\u001b[49m\u001b[43m(\u001b[49m\u001b[43mC\u001b[49m\u001b[43m,\u001b[49m\u001b[43m \u001b[49m\u001b[43mD\u001b[49m\u001b[43m)\u001b[49m\n\u001b[0;32m      7\u001b[0m \u001b[38;5;28mprint\u001b[39m(add2)\n\u001b[0;32m      8\u001b[0m \u001b[38;5;28mprint\u001b[39m(mult2)\n",
      "Input \u001b[1;32mIn [29]\u001b[0m, in \u001b[0;36mperform_operations\u001b[1;34m(A, B)\u001b[0m\n\u001b[0;32m     12\u001b[0m add \u001b[38;5;241m=\u001b[39m A \u001b[38;5;241m+\u001b[39m B\n\u001b[0;32m     13\u001b[0m mult \u001b[38;5;241m=\u001b[39m A \u001b[38;5;241m*\u001b[39m B\n\u001b[1;32m---> 14\u001b[0m dot \u001b[38;5;241m=\u001b[39m \u001b[43mnp\u001b[49m\u001b[38;5;241;43m.\u001b[39;49m\u001b[43mdot\u001b[49m\u001b[43m(\u001b[49m\u001b[43mA\u001b[49m\u001b[43m,\u001b[49m\u001b[43m \u001b[49m\u001b[43mB\u001b[49m\u001b[43m)\u001b[49m\n\u001b[0;32m     15\u001b[0m \u001b[38;5;28;01mreturn\u001b[39;00m add, mult, dot\n",
      "File \u001b[1;32m<__array_function__ internals>:5\u001b[0m, in \u001b[0;36mdot\u001b[1;34m(*args, **kwargs)\u001b[0m\n",
      "\u001b[1;31mValueError\u001b[0m: shapes (2,3) and (2,3) not aligned: 3 (dim 1) != 2 (dim 0)"
     ]
    }
   ],
   "source": [
    "C = np.array([[1, 1 , 1], [1, 1 , 1]])\n",
    "D = np.array([[1, 1, 1], [1, 1 , 1]])\n",
    "\n",
    "add2, mult2 , DOT2 = perform_operations(C, D)\n",
    "\n",
    "\n",
    "print(add2)\n",
    "print(mult2)\n",
    "# DOT FUNCTION NOT WORKING FOR 3*3 MATRIX - IT HAS TO BE OF THE SHAPE 2, 3"
   ]
  },
  {
   "cell_type": "markdown",
   "id": "38e07eeb",
   "metadata": {},
   "source": [
    "# Matplotlib"
   ]
  },
  {
   "cell_type": "code",
   "execution_count": null,
   "id": "afe675e3",
   "metadata": {},
   "outputs": [],
   "source": []
  },
  {
   "cell_type": "code",
   "execution_count": 32,
   "id": "021ea6d8",
   "metadata": {},
   "outputs": [
    {
     "data": {
      "image/png": "[encoded data removed]",
      "text/plain": [
       "<Figure size 432x288 with 1 Axes>"
      ]
     },
     "metadata": {
      "needs_background": "light"
     },
     "output_type": "display_data"
    }
   ],
   "source": [
    "# 9: Line Plot\n",
    "# Generate a line plot for the equation y = x ** 2,\n",
    "# where x ranges from -10 to 10\n",
    "# Create an array of x values from -10 to 10\n",
    "\n",
    "# Hint: \n",
    "# Create an array x of 400 points ranging from -10 to 10.\n",
    "# Compute the corresponding y values\n",
    "# Plot the curve using plt.plot(x, y).\n",
    "# Add a title, and labels for the x-axis and y-axis.\n",
    "# Add a grid for easier visualization.\n",
    "# Finally, display the plot using plt.show().\n",
    "\n",
    "\n",
    "import numpy as np\n",
    "import matplotlib.pyplot as plt\n",
    "\n",
    "x = np.linspace(-10, 10, 400) # X AXIS\n",
    "y = x ** 2  # Y AXIS\n",
    "plt.plot(x, y)\n",
    "plt.title(\"Line Plot of y = x^2\")\n",
    "plt.xlabel(\"x\")\n",
    "plt.ylabel(\"y\")\n",
    "plt.grid(True)\n",
    "plt.show()\n",
    "\n"
   ]
  },
  {
   "cell_type": "code",
   "execution_count": 34,
   "id": "679f7e17",
   "metadata": {},
   "outputs": [
    {
     "data": {
      "image/png": "[encoded data removed]",
      "text/plain": [
       "<Figure size 432x288 with 1 Axes>"
      ]
     },
     "metadata": {
      "needs_background": "light"
     },
     "output_type": "display_data"
    }
   ],
   "source": [
    "# 10: Bar Chart\n",
    "# Generate a bar chart that represents the grades of 5 students, with the following data:\n",
    "students = ['Alice', 'Bob', 'Charlie', 'Dave', 'Eva']\n",
    "grades = [85, 90, 77, 92, 88]\n",
    "\n",
    "# Hint:\n",
    "# Create the bar chart using plt.bar().\n",
    "# Add a title and labels for the x-axis and y-axis using plt.title(), plt.xlabel(), and plt.ylabel().\n",
    "# Finally, display the plot using plt.show()\n",
    "\n",
    "plt.bar(students, grades)\n",
    "\n",
    "plt.title('Student_Grades') # ADDING TITALE AS STUDENT GRADES , WHERE X AXIS IS STUDENTS AND Y AXIS IS GRADES\n",
    "plt.xlabel('Students')\n",
    "plt.ylabel('Grades')\n",
    "plt.show()\n"
   ]
  },
  {
   "cell_type": "code",
   "execution_count": 42,
   "id": "87cf9742",
   "metadata": {},
   "outputs": [
    {
     "data": {
      "image/png": "[encoded data removed]",
      "text/plain": [
       "<Figure size 432x288 with 1 Axes>"
      ]
     },
     "metadata": {
      "needs_background": "light"
     },
     "output_type": "display_data"
    }
   ],
   "source": [
    "# Q11: Scatter plot\n",
    "# Generate a scatter plot for the height and weight of 10 individuals. given by the following data:\n",
    "height = [160, 165, 170, 175, 180, 185, 190, 195, 200, 205]\n",
    "weight = [55, 60, 65, 70, 80, 85, 90, 95, 100, 105]\n",
    "\n",
    "# Create the scatter plot\n",
    "plt.scatter(height, weight)\n",
    "\n",
    "\n",
    "# Add title and labels\n",
    "plt.title('scatter plot for the height and weight of 10 individuals')  # title\n",
    "plt.xlabel('height') # x axis\n",
    "plt.ylabel('weight') # y axis \n",
    "\n",
    "\n",
    "# Annotate each point with the corresponding (height, weight)  # refered from https://matplotlib.org/stable/users/explain/text/annotations.html\n",
    "for i in range(len(height)):\n",
    "    plt.annotate(f'({height[i]}, {weight[i]})', (height[i], weight[i]), textcoords=\"offset points\", xytext=(0,10), ha='center')\n",
    "\n",
    "plt.show()\n",
    "\n",
    "\n"
   ]
  },
  {
   "cell_type": "code",
   "execution_count": 44,
   "id": "833540ee",
   "metadata": {},
   "outputs": [
    {
     "data": {
      "image/png": "[encoded data removed]",
      "text/plain": [
       "<Figure size 576x288 with 4 Axes>"
      ]
     },
     "metadata": {
      "needs_background": "light"
     },
     "output_type": "display_data"
    }
   ],
   "source": [
    "# 12: Subplots\n",
    "# Generate a single figure containing four subplots as follows:\n",
    "# sin(x), cos(x), tan(x), 1.0/(1.0  + exp(-x)\n",
    "\n",
    "\n",
    "import matplotlib.pyplot as plt\n",
    "import numpy as np\n",
    "\n",
    "\n",
    "x = np.linspace(-2 * np.pi, 2 * np.pi, 400) # this to create for x axis from -180 to 180 for the curves \n",
    "\n",
    "y1 = np.sin(x)\n",
    "y2 = np.cos(x)\n",
    "y3 = np.tan(x)\n",
    "y4 = 1.0 / (1.0 + np.exp(-x))\n",
    "\n",
    "\n",
    "plt.figure(figsize=(8, 4)) # SIZE OF THE TOTAL PLOT \n",
    "\n",
    "# PLOT1\n",
    "plt.subplot(2, 2, 1)\n",
    "plt.plot(x, y1)\n",
    "plt.title('sin(x)')\n",
    "\n",
    "# PLOT2\n",
    "plt.subplot(2, 2, 2)\n",
    "plt.plot(x, y2)\n",
    "plt.title('cos(x)')\n",
    "\n",
    "# PLOT3\n",
    "plt.subplot(2, 2, 3)\n",
    "plt.plot(x, y3)\n",
    "plt.title('tan(x)')\n",
    "\n",
    "# PLOT4\n",
    "plt.subplot(2, 2, 4)\n",
    "plt.plot(x, y4)\n",
    "plt.title('1.0 / (1.0 + exp(-x))')\n",
    "plt.tight_layout()\n",
    "\n",
    "plt.show()\n"
   ]
  },
  {
   "cell_type": "code",
   "execution_count": 46,
   "id": "9e9d6978",
   "metadata": {},
   "outputs": [
    {
     "data": {
      "image/png": "[encoded data removed]",
      "text/plain": [
       "<Figure size 432x288 with 1 Axes>"
      ]
     },
     "metadata": {
      "needs_background": "light"
     },
     "output_type": "display_data"
    }
   ],
   "source": [
    "# 13: Histogram\n",
    "# Generate a histogram for the following dataset representing the scores of 50 students in an exam.\n",
    "scores = [50, 60, 65, 70, 75, 80, 85, 90, 95, 100,\n",
    "          55, 58, 61, 67, 72, 78, 82, 88, 92, 97,\n",
    "          52, 59, 63, 71, 76, 79, 84, 89, 93, 98,\n",
    "          54, 57, 62, 68, 73, 77, 81, 87, 91, 96,\n",
    "          51, 56, 64, 69, 74, 83, 86, 94, 99, 53]\n",
    "\n",
    "plt.hist(scores, bins=20, edgecolor='RED') # differniate with red color and the details are split in to 20\n",
    "\n",
    "plt.title('scores of 50 students in an exam')\n",
    "plt.xlabel('Scores')\n",
    "plt.ylabel('Frequency')\n",
    "\n",
    "plt.show()"
   ]
  },
  {
   "cell_type": "code",
   "execution_count": 55,
   "id": "e8ca6039",
   "metadata": {},
   "outputs": [
    {
     "data": {
      "image/png": "[encoded data removed]",
      "text/plain": [
       "<Figure size 576x576 with 1 Axes>"
      ]
     },
     "metadata": {},
     "output_type": "display_data"
    }
   ],
   "source": [
    "# 14: Pie Chart\n",
    "# You are given data on the number of cars sold by a dealership in a month for four different brands: Toyota, Ford, Honda, and Tesla. The numbers are as follows:\n",
    "#\n",
    "# Toyota: 45 cars\n",
    "# Ford: 30 cars\n",
    "# Honda: 15 cars\n",
    "# Tesla: 10 cars\n",
    "# Create a pie chart using Matplotlib to visualize the share of monthly car sales for each brand. Make sure to include:\n",
    "\n",
    "# Labels for each brand\n",
    "# Percentages on the pie chart\n",
    "# A title\n",
    "# Different colors for each section\n",
    "\n",
    "\n",
    "brands = ['Toyota', 'Ford', 'Honda', 'Tesla']\n",
    "sales = [45, 30, 15, 10]\n",
    "\n",
    "colors = ['red', 'blue', 'green', 'pink'] # colors for the pie chart\n",
    "\n",
    "\n",
    "plt.figure(figsize=(8, 8)) # size of plot \n",
    "plt.pie(sales, labels=brands, colors=colors)\n",
    "\n",
    "# Add a title\n",
    "plt.title('Monthly Sales')\n",
    "plt.show()\n"
   ]
  },
  {
   "cell_type": "code",
   "execution_count": null,
   "id": "85445473",
   "metadata": {},
   "outputs": [],
   "source": []
  }
 ],
 "metadata": {
  "kernelspec": {
   "display_name": "Python 3 (ipykernel)",
   "language": "python",
   "name": "python3"
  },
  "language_info": {
   "codemirror_mode": {
    "name": "ipython",
    "version": 3
   },
   "file_extension": ".py",
   "mimetype": "text/x-python",
   "name": "python",
   "nbconvert_exporter": "python",
   "pygments_lexer": "ipython3",
   "version": "3.9.12"
  }
 },
 "nbformat": 4,
 "nbformat_minor": 5
}
